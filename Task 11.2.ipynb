{
 "cells": [
  {
   "cell_type": "code",
   "execution_count": 8,
   "metadata": {},
   "outputs": [
    {
     "name": "stdout",
     "output_type": "stream",
     "text": [
      "Basic arithmetic Operations\n",
      "enter a number A =50\n",
      "enter a number B =20\n",
      "50\n",
      "20\n",
      "Enter any of the given operation add , sub , mulitply , divisionadd\n",
      "Addition =  70\n"
     ]
    }
   ],
   "source": [
    "def Calc():\n",
    "    print(\"Basic arithmetic Operations\")\n",
    "    num1 =int(input('enter a number A ='))\n",
    "    num2 = int(input('enter a number B ='))\n",
    "    print(num1)\n",
    "    print(num2)\n",
    "    Op = input(\"Enter any of the given operation add , sub , mulitply , division\")\n",
    "    if(Op==\"add\"):\n",
    "        return add(num1,num2)\n",
    "    if(Op==\"Sub\"):\n",
    "        return Sub(num1,num2)\n",
    "    if(Op==\"Mulitply\"):\n",
    "        return Multiply(num1,num2)\n",
    "    if(Op==\"Division\"):\n",
    "        return Division(num1,num2)\n",
    "\n",
    "def add(num1,num2):\n",
    "    return print(\"Addition = \",num1+num2)\n",
    "def Sub(num1,num2):\n",
    "    return print(\"Subtraction = \",num1-num2)\n",
    "def Multiply(num1,num2):\n",
    "    return print(\"MUltiplication = \",num1*num2)\n",
    "def Division(num1,num2):\n",
    "    return print(\"Division = \",num1/num2)\n",
    "\n",
    "Calc()\n"
   ]
  },
  {
   "cell_type": "code",
   "execution_count": null,
   "metadata": {},
   "outputs": [],
   "source": []
  }
 ],
 "metadata": {
  "kernelspec": {
   "display_name": "Python 3",
   "language": "python",
   "name": "python3"
  },
  "language_info": {
   "codemirror_mode": {
    "name": "ipython",
    "version": 3
   },
   "file_extension": ".py",
   "mimetype": "text/x-python",
   "name": "python",
   "nbconvert_exporter": "python",
   "pygments_lexer": "ipython3",
   "version": "3.7.6"
  }
 },
 "nbformat": 4,
 "nbformat_minor": 4
}
