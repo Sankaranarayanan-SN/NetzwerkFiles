{
 "cells": [
  {
   "cell_type": "code",
   "execution_count": 34,
   "metadata": {},
   "outputs": [
    {
     "name": "stdout",
     "output_type": "stream",
     "text": [
      "Basic arithmetic Operations\n",
      "enter a number A =90\n",
      "enter a number B =9\n",
      "90\n",
      "9\n",
      "enter  Any number for operation 1.Addition 2.Subtraction 3.Mulitplication 4.Division =2\n",
      "Result of Subtraction is  81\n"
     ]
    }
   ],
   "source": [
    "print(\"Basic arithmetic Operations\")\n",
    "num1 =int(input('enter a number A ='))\n",
    "num2 = int(input('enter a number B ='))\n",
    "print(num1)\n",
    "print(num2)\n",
    "operation = int(input(\"enter  Any number for operation 1.Addition 2.Subtraction 3.Mulitplication 4.Division =\"))\n",
    "if(operation <= 4):\n",
    "    if(operation==1):\n",
    "        Result = num1 + num2\n",
    "        print('Result of addition is ', Result)\n",
    "    if(operation==2):\n",
    "        Result = num1 - num2\n",
    "        print('Result of Subtraction is ', Result)\n",
    "    if(operation==3):\n",
    "        Result = num1*num2\n",
    "        print('Result of Multiplication is ', Result)\n",
    "    if(operation==4):\n",
    "        Result = num1 / num2\n",
    "        print('Result of Division is ', Result)\n",
    "else:\n",
    "    print(\"Enter the Correct operation number \")"
   ]
  },
  {
   "cell_type": "code",
   "execution_count": null,
   "metadata": {},
   "outputs": [],
   "source": []
  }
 ],
 "metadata": {
  "kernelspec": {
   "display_name": "Python 3",
   "language": "python",
   "name": "python3"
  },
  "language_info": {
   "codemirror_mode": {
    "name": "ipython",
    "version": 3
   },
   "file_extension": ".py",
   "mimetype": "text/x-python",
   "name": "python",
   "nbconvert_exporter": "python",
   "pygments_lexer": "ipython3",
   "version": "3.7.6"
  }
 },
 "nbformat": 4,
 "nbformat_minor": 4
}
